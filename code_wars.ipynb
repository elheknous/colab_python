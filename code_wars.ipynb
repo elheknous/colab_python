{
  "nbformat": 4,
  "nbformat_minor": 0,
  "metadata": {
    "colab": {
      "provenance": []
    },
    "kernelspec": {
      "name": "python3",
      "display_name": "Python 3"
    },
    "language_info": {
      "name": "python"
    }
  },
  "cells": [
    {
      "cell_type": "code",
      "execution_count": 1,
      "metadata": {
        "id": "Dbpr5WG_ZsgH"
      },
      "outputs": [],
      "source": [
        "def invertir_cadena(cadena):\n",
        "    return cadena[::-1]\n",
        "\n",
        "def spin_words(frase):\n",
        "    frase = frase + \" \"\n",
        "    lista = []\n",
        "    palabra = \"\"\n",
        "    terminoFrase = False\n",
        "\n",
        "    for i in frase:\n",
        "        palabra = palabra + i\n",
        "        if i == \" \":\n",
        "            palabraLimpia = palabra.strip()\n",
        "            lista.append(palabraLimpia)\n",
        "            palabraLimpia = \"\"\n",
        "            palabra = \"\"\n",
        "\n",
        "    lista2 = []\n",
        "    for i in lista:\n",
        "        if len(i)<5:\n",
        "            lista2.append(i)\n",
        "        else:\n",
        "            a = invertir_cadena(i)\n",
        "            lista2.append(a)\n",
        "\n",
        "\n",
        "    fraseFinal = \"\"\n",
        "    for i in lista2:\n",
        "        fraseFinal = fraseFinal + i + \" \"\n",
        "\n",
        "    print(fraseFinal)\n",
        "\n",
        "    return fraseFinal.strip()\n",
        "\n",
        "  \n",
        "\n"
      ]
    }
  ]
}